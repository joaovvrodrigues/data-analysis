{
  "nbformat": 4,
  "nbformat_minor": 0,
  "metadata": {
    "colab": {
      "name": "topicos_chegadas.ipynb",
      "provenance": [],
      "collapsed_sections": [],
      "include_colab_link": true
    },
    "kernelspec": {
      "name": "python3",
      "display_name": "Python 3"
    }
  },
  "cells": [
    {
      "cell_type": "markdown",
      "metadata": {
        "id": "view-in-github",
        "colab_type": "text"
      },
      "source": [
        "<a href=\"https://colab.research.google.com/github/joaovvrodrigues/data-analysis-estrangeiros/blob/main/chegadas_estrangeiros_brasil.ipynb\" target=\"_parent\"><img src=\"https://colab.research.google.com/assets/colab-badge.svg\" alt=\"Open In Colab\"/></a>"
      ]
    },
    {
      "cell_type": "markdown",
      "metadata": {
        "id": "cp1Eyk4bqvKo"
      },
      "source": [
        "**Chegadas de turistas internacionais de 2010 a 2019**\n",
        "\n",
        "\n",
        "\n",
        "*   Preparação dos dados\n",
        "*   Análises gráficas\n",
        "*   Reconhecimento de padrões\n",
        "\n",
        "\n",
        "\n",
        "[Download dos datasets](http://dados.turismo.gov.br/index.php/chegada-de-turistas-internacionais)\n",
        "\n",
        "\n",
        "\n",
        "\n"
      ]
    },
    {
      "cell_type": "code",
      "metadata": {
        "id": "PvZhcCCOlKxQ"
      },
      "source": [
        "# http://dados.turismo.gov.br/index.php/chegada-de-turistas-internacionais\n",
        "# Apartir de 2016 os datasets são organizados de forma diferente, alterando os valores das colunas\n",
        "# 2018 está usando um enconding diferente\n",
        "# 2014 está com ';' no final de cada linha (mal formatado)\n",
        "# Portanto é melhor padronizar as colunas antes de unir\n",
        "# Estava com problema de enconding, tive que abrir todos os arquivos no sublime e salvar novamente"
      ],
      "execution_count": 105,
      "outputs": []
    },
    {
      "cell_type": "markdown",
      "metadata": {
        "id": "ES2ZKXk0m6Cy"
      },
      "source": [
        "**Preparação dos dados**\n",
        "\n",
        "*   Carregando, limpando e formatando dados\n",
        "*   Concatenando todos\n",
        "\n"
      ]
    },
    {
      "cell_type": "code",
      "metadata": {
        "id": "9rg0MvQOl0fk"
      },
      "source": [
        "import pandas as pd\n",
        "import numpy as np\n",
        "import matplotlib.pyplot as plt\n",
        "%matplotlib inline\n",
        "plt.style.use('ggplot')\n",
        "\n",
        "\n",
        "colunasRenomeadas = {'Continente':'Continente','Ordem continente':'ID Continente','País':'País', 'Ordem país':'ID País', 'UF':'UF', 'Ordem UF':'ID UF', 'Via de acesso':'Via de acesso', 'Ordem via de acesso':'ID Via de acesso', 'Ano':'Ano', \n",
        "                     'Mês':'Mês', 'Ordem mês':'Num mês', 'Chegadas':'Chegadas', 'ano':'Ano', 'cod continente':'ID Continente', 'cod pais':'ID País', 'cod uf':'ID UF', 'Via':'Via de acesso', 'cod via':'ID Via de acesso', 'cod mes':'Num mês',\n",
        "                     'ï»¿Continente':'Continente', 'PaÃ­s':'País', 'MÃªs':'Mês', 'Pa�s' : 'País', 'Ordem paï¿½s': 'ID País', 'M�s' : 'Mês', 'Ordem mï¿½s' : 'Num mês'}\n",
        "\n",
        "quantidade = 9 # Quantidade usado para carregar os nomes dos datasets\n",
        "li = [] # lista com datasets\n",
        "\n",
        "chegadasPorAno = []\n",
        "\n",
        "for i in range(10):\n",
        "    arquivo = \"chegadas_201{}.csv\".format(i) # Carregando o nome do arquivo atual\n",
        "    df = pd.read_csv(arquivo, delimiter = ';') # Carregando o DataSet\n",
        "    \n",
        "    df.rename(columns=colunasRenomeadas, inplace=True)  # Renomeando as colunas para padronização\n",
        "    df.dropna(inplace=True) # Remove todos os NaN do DataSet, necenecessário pois temos um numero maior de chegadas pois incluem NaN.\n",
        "\n",
        "    li.append(df) # Adicionando arquivos na lista de datasets\n",
        "    \n",
        "    chegadasPorAno.append(sum(df['Chegadas'])) # Salvando numero total de chegadas por ano\n",
        "\n",
        "frame = pd.concat(li, axis=0, ignore_index=True) # Concatenando todos os datasets\n",
        "\n",
        "frame[\"Mês\"] = frame[\"Mês\"].str.lower() # Colocando todos os meses em caixa baixa\n"
      ],
      "execution_count": 106,
      "outputs": []
    },
    {
      "cell_type": "markdown",
      "metadata": {
        "id": "fP07Ygx6nOQL"
      },
      "source": [
        "Remoção da coluna Unnamed"
      ]
    },
    {
      "cell_type": "code",
      "metadata": {
        "id": "wJZqa0CjQgEM"
      },
      "source": [
        "frame.drop(columns = ['Unnamed: 12'], inplace=True) #Removendo a coluna Unnamed de 2014 Caso use os dados do site oficial, descomente essa linha"
      ],
      "execution_count": 107,
      "outputs": []
    },
    {
      "cell_type": "markdown",
      "metadata": {
        "id": "qXv71JMa9wVn"
      },
      "source": [
        "**Removendo todas as linhas que o numero de chegadas é igual a zero**"
      ]
    },
    {
      "cell_type": "code",
      "metadata": {
        "id": "NvyeWIDi9v36"
      },
      "source": [
        "frame_remove = frame.loc[frame['Chegadas'] == 0]\n",
        "frame = frame.drop(frame_remove.index)"
      ],
      "execution_count": 108,
      "outputs": []
    },
    {
      "cell_type": "markdown",
      "metadata": {
        "id": "9O823eqTQiQo"
      },
      "source": [
        "**Descrição do Data Frame unificado**"
      ]
    },
    {
      "cell_type": "code",
      "metadata": {
        "id": "0lIaleoBtY_v",
        "outputId": "2e1ee44a-df2e-4228-d7b5-a2387d8db971",
        "colab": {
          "base_uri": "https://localhost:8080/",
          "height": 297
        }
      },
      "source": [
        "frame.describe()"
      ],
      "execution_count": 109,
      "outputs": [
        {
          "output_type": "execute_result",
          "data": {
            "text/html": [
              "<div>\n",
              "<style scoped>\n",
              "    .dataframe tbody tr th:only-of-type {\n",
              "        vertical-align: middle;\n",
              "    }\n",
              "\n",
              "    .dataframe tbody tr th {\n",
              "        vertical-align: top;\n",
              "    }\n",
              "\n",
              "    .dataframe thead th {\n",
              "        text-align: right;\n",
              "    }\n",
              "</style>\n",
              "<table border=\"1\" class=\"dataframe\">\n",
              "  <thead>\n",
              "    <tr style=\"text-align: right;\">\n",
              "      <th></th>\n",
              "      <th>ID Continente</th>\n",
              "      <th>ID País</th>\n",
              "      <th>ID UF</th>\n",
              "      <th>ID Via de acesso</th>\n",
              "      <th>Ano</th>\n",
              "      <th>Num mês</th>\n",
              "      <th>Chegadas</th>\n",
              "    </tr>\n",
              "  </thead>\n",
              "  <tbody>\n",
              "    <tr>\n",
              "      <th>count</th>\n",
              "      <td>129467.000000</td>\n",
              "      <td>129467.000000</td>\n",
              "      <td>129467.000000</td>\n",
              "      <td>129467.000000</td>\n",
              "      <td>129467.000000</td>\n",
              "      <td>129467.000000</td>\n",
              "      <td>129467.000000</td>\n",
              "    </tr>\n",
              "    <tr>\n",
              "      <th>mean</th>\n",
              "      <td>4.736558</td>\n",
              "      <td>166.553616</td>\n",
              "      <td>18.612210</td>\n",
              "      <td>1.558304</td>\n",
              "      <td>2014.958321</td>\n",
              "      <td>6.469479</td>\n",
              "      <td>470.626422</td>\n",
              "    </tr>\n",
              "    <tr>\n",
              "      <th>std</th>\n",
              "      <td>1.622671</td>\n",
              "      <td>229.046979</td>\n",
              "      <td>18.926776</td>\n",
              "      <td>0.837354</td>\n",
              "      <td>2.854078</td>\n",
              "      <td>3.581264</td>\n",
              "      <td>3540.505094</td>\n",
              "    </tr>\n",
              "    <tr>\n",
              "      <th>min</th>\n",
              "      <td>1.000000</td>\n",
              "      <td>2.000000</td>\n",
              "      <td>1.000000</td>\n",
              "      <td>1.000000</td>\n",
              "      <td>2010.000000</td>\n",
              "      <td>1.000000</td>\n",
              "      <td>1.000000</td>\n",
              "    </tr>\n",
              "    <tr>\n",
              "      <th>25%</th>\n",
              "      <td>4.000000</td>\n",
              "      <td>54.000000</td>\n",
              "      <td>7.000000</td>\n",
              "      <td>1.000000</td>\n",
              "      <td>2012.000000</td>\n",
              "      <td>3.000000</td>\n",
              "      <td>3.000000</td>\n",
              "    </tr>\n",
              "    <tr>\n",
              "      <th>50%</th>\n",
              "      <td>5.000000</td>\n",
              "      <td>114.000000</td>\n",
              "      <td>16.000000</td>\n",
              "      <td>1.000000</td>\n",
              "      <td>2015.000000</td>\n",
              "      <td>6.000000</td>\n",
              "      <td>10.000000</td>\n",
              "    </tr>\n",
              "    <tr>\n",
              "      <th>75%</th>\n",
              "      <td>6.000000</td>\n",
              "      <td>182.000000</td>\n",
              "      <td>21.000000</td>\n",
              "      <td>2.000000</td>\n",
              "      <td>2017.000000</td>\n",
              "      <td>10.000000</td>\n",
              "      <td>84.000000</td>\n",
              "    </tr>\n",
              "    <tr>\n",
              "      <th>max</th>\n",
              "      <td>8.000000</td>\n",
              "      <td>999.000000</td>\n",
              "      <td>99.000000</td>\n",
              "      <td>4.000000</td>\n",
              "      <td>2019.000000</td>\n",
              "      <td>12.000000</td>\n",
              "      <td>386823.000000</td>\n",
              "    </tr>\n",
              "  </tbody>\n",
              "</table>\n",
              "</div>"
            ],
            "text/plain": [
              "       ID Continente        ID País  ...        Num mês       Chegadas\n",
              "count  129467.000000  129467.000000  ...  129467.000000  129467.000000\n",
              "mean        4.736558     166.553616  ...       6.469479     470.626422\n",
              "std         1.622671     229.046979  ...       3.581264    3540.505094\n",
              "min         1.000000       2.000000  ...       1.000000       1.000000\n",
              "25%         4.000000      54.000000  ...       3.000000       3.000000\n",
              "50%         5.000000     114.000000  ...       6.000000      10.000000\n",
              "75%         6.000000     182.000000  ...      10.000000      84.000000\n",
              "max         8.000000     999.000000  ...      12.000000  386823.000000\n",
              "\n",
              "[8 rows x 7 columns]"
            ]
          },
          "metadata": {
            "tags": []
          },
          "execution_count": 109
        }
      ]
    },
    {
      "cell_type": "markdown",
      "metadata": {
        "id": "_lhlCtcanXKb"
      },
      "source": [
        "Como realizar uma pesquisa"
      ]
    },
    {
      "cell_type": "code",
      "metadata": {
        "id": "RGspwm1Z3FRu",
        "outputId": "31bcd8d0-65ec-4236-a6be-88cfb7806ced",
        "colab": {
          "base_uri": "https://localhost:8080/",
          "height": 204
        }
      },
      "source": [
        "frame.sort_values(by=['Chegadas'], ascending=False).head() # by=['ID País', 'Chegadas'] Organizar por mais de uma coluna"
      ],
      "execution_count": 110,
      "outputs": [
        {
          "output_type": "execute_result",
          "data": {
            "text/html": [
              "<div>\n",
              "<style scoped>\n",
              "    .dataframe tbody tr th:only-of-type {\n",
              "        vertical-align: middle;\n",
              "    }\n",
              "\n",
              "    .dataframe tbody tr th {\n",
              "        vertical-align: top;\n",
              "    }\n",
              "\n",
              "    .dataframe thead th {\n",
              "        text-align: right;\n",
              "    }\n",
              "</style>\n",
              "<table border=\"1\" class=\"dataframe\">\n",
              "  <thead>\n",
              "    <tr style=\"text-align: right;\">\n",
              "      <th></th>\n",
              "      <th>Continente</th>\n",
              "      <th>ID Continente</th>\n",
              "      <th>País</th>\n",
              "      <th>ID País</th>\n",
              "      <th>UF</th>\n",
              "      <th>ID UF</th>\n",
              "      <th>Via de acesso</th>\n",
              "      <th>ID Via de acesso</th>\n",
              "      <th>Ano</th>\n",
              "      <th>Mês</th>\n",
              "      <th>Num mês</th>\n",
              "      <th>Chegadas</th>\n",
              "    </tr>\n",
              "  </thead>\n",
              "  <tbody>\n",
              "    <tr>\n",
              "      <th>233449</th>\n",
              "      <td>América do Sul</td>\n",
              "      <td>4</td>\n",
              "      <td>Argentina</td>\n",
              "      <td>11</td>\n",
              "      <td>Rio Grande do Sul</td>\n",
              "      <td>21</td>\n",
              "      <td>Terrestre</td>\n",
              "      <td>2</td>\n",
              "      <td>2017</td>\n",
              "      <td>janeiro</td>\n",
              "      <td>1</td>\n",
              "      <td>386823.0</td>\n",
              "    </tr>\n",
              "    <tr>\n",
              "      <th>144169</th>\n",
              "      <td>América do Sul</td>\n",
              "      <td>4</td>\n",
              "      <td>Argentina</td>\n",
              "      <td>11</td>\n",
              "      <td>Rio Grande do Sul</td>\n",
              "      <td>21</td>\n",
              "      <td>Terrestre</td>\n",
              "      <td>2</td>\n",
              "      <td>2015</td>\n",
              "      <td>janeiro</td>\n",
              "      <td>1</td>\n",
              "      <td>353122.0</td>\n",
              "    </tr>\n",
              "    <tr>\n",
              "      <th>189925</th>\n",
              "      <td>América do Sul</td>\n",
              "      <td>4</td>\n",
              "      <td>Argentina</td>\n",
              "      <td>11</td>\n",
              "      <td>Rio Grande do Sul</td>\n",
              "      <td>21</td>\n",
              "      <td>Terrestre</td>\n",
              "      <td>2</td>\n",
              "      <td>2016</td>\n",
              "      <td>janeiro</td>\n",
              "      <td>1</td>\n",
              "      <td>350577.0</td>\n",
              "    </tr>\n",
              "    <tr>\n",
              "      <th>284808</th>\n",
              "      <td>América do Sul</td>\n",
              "      <td>4</td>\n",
              "      <td>Argentina</td>\n",
              "      <td>11</td>\n",
              "      <td>Rio Grande do Sul</td>\n",
              "      <td>21</td>\n",
              "      <td>Terrestre</td>\n",
              "      <td>2</td>\n",
              "      <td>2018</td>\n",
              "      <td>janeiro</td>\n",
              "      <td>1</td>\n",
              "      <td>307324.0</td>\n",
              "    </tr>\n",
              "    <tr>\n",
              "      <th>233542</th>\n",
              "      <td>América do Sul</td>\n",
              "      <td>4</td>\n",
              "      <td>Argentina</td>\n",
              "      <td>11</td>\n",
              "      <td>Rio Grande do Sul</td>\n",
              "      <td>21</td>\n",
              "      <td>Terrestre</td>\n",
              "      <td>2</td>\n",
              "      <td>2017</td>\n",
              "      <td>fevereiro</td>\n",
              "      <td>2</td>\n",
              "      <td>241090.0</td>\n",
              "    </tr>\n",
              "  </tbody>\n",
              "</table>\n",
              "</div>"
            ],
            "text/plain": [
              "            Continente  ID Continente       País  ...        Mês Num mês  Chegadas\n",
              "233449  América do Sul              4  Argentina  ...    janeiro       1  386823.0\n",
              "144169  América do Sul              4  Argentina  ...    janeiro       1  353122.0\n",
              "189925  América do Sul              4  Argentina  ...    janeiro       1  350577.0\n",
              "284808  América do Sul              4  Argentina  ...    janeiro       1  307324.0\n",
              "233542  América do Sul              4  Argentina  ...  fevereiro       2  241090.0\n",
              "\n",
              "[5 rows x 12 columns]"
            ]
          },
          "metadata": {
            "tags": []
          },
          "execution_count": 110
        }
      ]
    },
    {
      "cell_type": "markdown",
      "metadata": {
        "id": "GBnu-ocenaEd"
      },
      "source": [
        "Maior número de chegadas em um único mês "
      ]
    },
    {
      "cell_type": "code",
      "metadata": {
        "id": "Fu6bbiU0V-hL",
        "outputId": "be96a419-ee6d-4495-b335-86f5db0ff6fe",
        "colab": {
          "base_uri": "https://localhost:8080/",
          "height": 80
        }
      },
      "source": [
        "frame[frame['Chegadas'] == 386823] #MUITA GENTE MDS"
      ],
      "execution_count": 111,
      "outputs": [
        {
          "output_type": "execute_result",
          "data": {
            "text/html": [
              "<div>\n",
              "<style scoped>\n",
              "    .dataframe tbody tr th:only-of-type {\n",
              "        vertical-align: middle;\n",
              "    }\n",
              "\n",
              "    .dataframe tbody tr th {\n",
              "        vertical-align: top;\n",
              "    }\n",
              "\n",
              "    .dataframe thead th {\n",
              "        text-align: right;\n",
              "    }\n",
              "</style>\n",
              "<table border=\"1\" class=\"dataframe\">\n",
              "  <thead>\n",
              "    <tr style=\"text-align: right;\">\n",
              "      <th></th>\n",
              "      <th>Continente</th>\n",
              "      <th>ID Continente</th>\n",
              "      <th>País</th>\n",
              "      <th>ID País</th>\n",
              "      <th>UF</th>\n",
              "      <th>ID UF</th>\n",
              "      <th>Via de acesso</th>\n",
              "      <th>ID Via de acesso</th>\n",
              "      <th>Ano</th>\n",
              "      <th>Mês</th>\n",
              "      <th>Num mês</th>\n",
              "      <th>Chegadas</th>\n",
              "    </tr>\n",
              "  </thead>\n",
              "  <tbody>\n",
              "    <tr>\n",
              "      <th>233449</th>\n",
              "      <td>América do Sul</td>\n",
              "      <td>4</td>\n",
              "      <td>Argentina</td>\n",
              "      <td>11</td>\n",
              "      <td>Rio Grande do Sul</td>\n",
              "      <td>21</td>\n",
              "      <td>Terrestre</td>\n",
              "      <td>2</td>\n",
              "      <td>2017</td>\n",
              "      <td>janeiro</td>\n",
              "      <td>1</td>\n",
              "      <td>386823.0</td>\n",
              "    </tr>\n",
              "  </tbody>\n",
              "</table>\n",
              "</div>"
            ],
            "text/plain": [
              "            Continente  ID Continente       País  ...      Mês Num mês  Chegadas\n",
              "233449  América do Sul              4  Argentina  ...  janeiro       1  386823.0\n",
              "\n",
              "[1 rows x 12 columns]"
            ]
          },
          "metadata": {
            "tags": []
          },
          "execution_count": 111
        }
      ]
    },
    {
      "cell_type": "markdown",
      "metadata": {
        "id": "h5OePGAKADk3"
      },
      "source": [
        "Instâncias por ano"
      ]
    },
    {
      "cell_type": "code",
      "metadata": {
        "id": "j6GLjLq9-4bP",
        "outputId": "719e1898-8269-4b18-c3b7-7a13a4a2b10b",
        "colab": {
          "base_uri": "https://localhost:8080/",
          "height": 298
        }
      },
      "source": [
        "frame['Ano'].value_counts().plot(kind='bar')"
      ],
      "execution_count": 112,
      "outputs": [
        {
          "output_type": "execute_result",
          "data": {
            "text/plain": [
              "<matplotlib.axes._subplots.AxesSubplot at 0x7f880c3212e8>"
            ]
          },
          "metadata": {
            "tags": []
          },
          "execution_count": 112
        },
        {
          "output_type": "display_data",
          "data": {
            "image/png": "[encoded data removed]",
            "text/plain": [
              "<Figure size 432x288 with 1 Axes>"
            ]
          },
          "metadata": {
            "tags": []
          }
        }
      ]
    },
    {
      "cell_type": "markdown",
      "metadata": {
        "id": "st7Oj857nheT"
      },
      "source": [
        "Gráfico de número de chegadas por ano, podemos observar uma crescente até 2018"
      ]
    },
    {
      "cell_type": "code",
      "metadata": {
        "id": "p8fETMFL0x_g",
        "outputId": "d7386168-018c-457f-f2fa-d6d6b2724b85",
        "colab": {
          "base_uri": "https://localhost:8080/",
          "height": 265
        }
      },
      "source": [
        "Y = chegadasPorAno\n",
        "X = frame['Ano'].unique()\n",
        "\n",
        "plt.plot(X,Y, marker = 'o')\n",
        "plt.ticklabel_format(axis=\"y\", style=\"plain\", scilimits=(0,0))"
      ],
      "execution_count": 113,
      "outputs": [
        {
          "output_type": "display_data",
          "data": {
            "image/png": "[encoded data removed]",
            "text/plain": [
              "<Figure size 432x288 with 1 Axes>"
            ]
          },
          "metadata": {
            "tags": []
          }
        }
      ]
    },
    {
      "cell_type": "code",
      "metadata": {
        "id": "lrzrAuwQH43Q",
        "outputId": "7d70a0b8-c5dc-4a0a-8c64-1caaa2c65e7c",
        "colab": {
          "base_uri": "https://localhost:8080/",
          "height": 265
        }
      },
      "source": [
        "Y = chegadasPorAno\n",
        "X = frame['Ano'].unique()\n",
        "plt.bar(X,Y)\n",
        "plt.ticklabel_format(axis=\"y\", style=\"plain\", scilimits=(0,0))"
      ],
      "execution_count": 114,
      "outputs": [
        {
          "output_type": "display_data",
          "data": {
            "image/png": "[encoded data removed]",
            "text/plain": [
              "<Figure size 432x288 with 1 Axes>"
            ]
          },
          "metadata": {
            "tags": []
          }
        }
      ]
    },
    {
      "cell_type": "markdown",
      "metadata": {
        "id": "VHdFwb4_nqX0"
      },
      "source": [
        "Gráfico de contagem de continentes no DataFrame, podemos observar que temos muito mais instâncias de 'Europa', logo sendo o continente que mais trouxe estrangeiros.\n",
        "\n"
      ]
    },
    {
      "cell_type": "code",
      "metadata": {
        "id": "51-Bg2cp6r3C",
        "outputId": "97c5bf20-a115-4c00-c000-9ef8a3a576e8",
        "colab": {
          "base_uri": "https://localhost:8080/",
          "height": 412
        }
      },
      "source": [
        "plt.plot(frame['Continente'].value_counts(),marker = 'o')\n",
        "plt.xticks(rotation = 70)"
      ],
      "execution_count": 115,
      "outputs": [
        {
          "output_type": "execute_result",
          "data": {
            "text/plain": [
              "([0, 1, 2, 3, 4, 5, 6, 7], <a list of 8 Text major ticklabel objects>)"
            ]
          },
          "metadata": {
            "tags": []
          },
          "execution_count": 115
        },
        {
          "output_type": "display_data",
          "data": {
            "image/png": "[encoded data removed]",
            "text/plain": [
              "<Figure size 432x288 with 1 Axes>"
            ]
          },
          "metadata": {
            "tags": []
          }
        }
      ]
    },
    {
      "cell_type": "code",
      "metadata": {
        "id": "v_mwMUkh7MW5",
        "outputId": "6f8c77a0-0b5f-4d87-fe23-0beced4344ab",
        "colab": {
          "base_uri": "https://localhost:8080/",
          "height": 170
        }
      },
      "source": [
        "frame['Continente'].value_counts()"
      ],
      "execution_count": 116,
      "outputs": [
        {
          "output_type": "execute_result",
          "data": {
            "text/plain": [
              "Europa                         57683\n",
              "América do Sul                 24437\n",
              "Ásia                           16688\n",
              "América Central e Caribe       10759\n",
              "América do Norte                7592\n",
              "África                          7473\n",
              "Oceania                         4505\n",
              "Continente não especificado      330\n",
              "Name: Continente, dtype: int64"
            ]
          },
          "metadata": {
            "tags": []
          },
          "execution_count": 116
        }
      ]
    },
    {
      "cell_type": "markdown",
      "metadata": {
        "id": "-1SUQJvjn9fp"
      },
      "source": [
        "Gráfico de contagem de instâncias de UF no DataFrame, podemos observar que Amazonas é a Unidade Federativa que mais recebeu estrangeiros."
      ]
    },
    {
      "cell_type": "code",
      "metadata": {
        "id": "8ko3qnTwETEw",
        "outputId": "d1934cd1-c6c6-46a4-fc1e-9dabff9a0935",
        "colab": {
          "base_uri": "https://localhost:8080/",
          "height": 426
        }
      },
      "source": [
        "plt.ylabel(\"UF's por instância\")\n",
        "plt.xticks(rotation = 90)\n",
        "plt.plot(frame['UF'].value_counts(), marker = 'o')"
      ],
      "execution_count": 117,
      "outputs": [
        {
          "output_type": "execute_result",
          "data": {
            "text/plain": [
              "[<matplotlib.lines.Line2D at 0x7f880c68e2e8>]"
            ]
          },
          "metadata": {
            "tags": []
          },
          "execution_count": 117
        },
        {
          "output_type": "display_data",
          "data": {
            "image/png": "[encoded data removed]",
            "text/plain": [
              "<Figure size 432x288 with 1 Axes>"
            ]
          },
          "metadata": {
            "tags": []
          }
        }
      ]
    },
    {
      "cell_type": "code",
      "metadata": {
        "id": "3eFuPPH67vWQ",
        "outputId": "2572d922-f09c-4565-982d-55122ad74647",
        "colab": {
          "base_uri": "https://localhost:8080/",
          "height": 426
        }
      },
      "source": [
        "frame['UF'].value_counts().plot(kind='bar')\n",
        "plt.ylabel(\"UF's por instância\")"
      ],
      "execution_count": 118,
      "outputs": [
        {
          "output_type": "execute_result",
          "data": {
            "text/plain": [
              "Text(0, 0.5, \"UF's por instância\")"
            ]
          },
          "metadata": {
            "tags": []
          },
          "execution_count": 118
        },
        {
          "output_type": "display_data",
          "data": {
            "image/png": "[encoded data removed]",
            "text/plain": [
              "<Figure size 432x288 with 1 Axes>"
            ]
          },
          "metadata": {
            "tags": []
          }
        }
      ]
    },
    {
      "cell_type": "markdown",
      "metadata": {
        "id": "w63kRvSToOuP"
      },
      "source": [
        "Gráfico de contagem de instâncias de Vias de acesso no DataFrame, podemos observar que o meio mais utilizado é viagens aéreas."
      ]
    },
    {
      "cell_type": "code",
      "metadata": {
        "id": "2D2cWz1I_Nc0",
        "outputId": "78df68ec-29ba-4655-914b-19c4e8de8826",
        "colab": {
          "base_uri": "https://localhost:8080/",
          "height": 282
        }
      },
      "source": [
        "frame['Via de acesso'].value_counts().plot(marker = 'o')\n",
        "plt.ylabel(\"Vias de acesso\")"
      ],
      "execution_count": 119,
      "outputs": [
        {
          "output_type": "execute_result",
          "data": {
            "text/plain": [
              "Text(0, 0.5, 'Vias de acesso')"
            ]
          },
          "metadata": {
            "tags": []
          },
          "execution_count": 119
        },
        {
          "output_type": "display_data",
          "data": {
            "image/png": "[encoded data removed]",
            "text/plain": [
              "<Figure size 432x288 with 1 Axes>"
            ]
          },
          "metadata": {
            "tags": []
          }
        }
      ]
    },
    {
      "cell_type": "markdown",
      "metadata": {
        "id": "dUPYWpMiouQN"
      },
      "source": [
        "Gráfico de contagem de chegadas por meses de todos os anos, podemos observar que recebemos muitos estrangeiros no inicio no ano (Carnaval?). E há uma crescente no meio (junho e julho)"
      ]
    },
    {
      "cell_type": "code",
      "metadata": {
        "id": "3xYvAcpHKbx4",
        "outputId": "b858927c-a596-4b1e-d701-865851833aec",
        "colab": {
          "base_uri": "https://localhost:8080/",
          "height": 340
        }
      },
      "source": [
        "X=frame['Mês']\n",
        "Y=frame['Chegadas']\n",
        "\n",
        "plt.bar(X,Y,) # Esse gráfico é muito pesado (quase 5 minutos pra ser gerado)\n",
        "plt.xticks(rotation = 90)"
      ],
      "execution_count": 120,
      "outputs": [
        {
          "output_type": "execute_result",
          "data": {
            "text/plain": [
              "([0, 1, 2, 3, 4, 5, 6, 7, 8, 9, 10, 11],\n",
              " <a list of 12 Text major ticklabel objects>)"
            ]
          },
          "metadata": {
            "tags": []
          },
          "execution_count": 120
        },
        {
          "output_type": "display_data",
          "data": {
            "image/png": "[encoded data removed]",
            "text/plain": [
              "<Figure size 432x288 with 1 Axes>"
            ]
          },
          "metadata": {
            "tags": []
          }
        }
      ]
    },
    {
      "cell_type": "markdown",
      "metadata": {
        "id": "I7kGrfUdHF4Q"
      },
      "source": [
        "Chegadas ao longo dos anos em MG"
      ]
    },
    {
      "cell_type": "code",
      "metadata": {
        "id": "9ql4KjnIESz3",
        "outputId": "76d16159-6672-4514-e9ec-6522c577b0c2",
        "colab": {
          "base_uri": "https://localhost:8080/",
          "height": 282
        }
      },
      "source": [
        "minas = frame[frame['ID UF'] == 13] # Minas Gerais\n",
        "plt.ylabel(\"Chegadas por ano em Minas Gerais\")\n",
        "minas['Ano'].plot(marker = 'o')"
      ],
      "execution_count": 121,
      "outputs": [
        {
          "output_type": "execute_result",
          "data": {
            "text/plain": [
              "<matplotlib.axes._subplots.AxesSubplot at 0x7f880c78a4a8>"
            ]
          },
          "metadata": {
            "tags": []
          },
          "execution_count": 121
        },
        {
          "output_type": "display_data",
          "data": {
            "image/png": "[encoded data removed]",
            "text/plain": [
              "<Figure size 432x288 with 1 Axes>"
            ]
          },
          "metadata": {
            "tags": []
          }
        }
      ]
    },
    {
      "cell_type": "code",
      "metadata": {
        "id": "-8B8xPxOGdlT",
        "outputId": "ab34f459-fb10-463f-d80b-2ba6cdbaae74",
        "colab": {
          "base_uri": "https://localhost:8080/",
          "height": 204
        }
      },
      "source": [
        "minas2010 = minas[minas['Ano'] == 2010]\n",
        "minas2010.sort_values(by=['Chegadas'], ascending=True).head()"
      ],
      "execution_count": 122,
      "outputs": [
        {
          "output_type": "execute_result",
          "data": {
            "text/html": [
              "<div>\n",
              "<style scoped>\n",
              "    .dataframe tbody tr th:only-of-type {\n",
              "        vertical-align: middle;\n",
              "    }\n",
              "\n",
              "    .dataframe tbody tr th {\n",
              "        vertical-align: top;\n",
              "    }\n",
              "\n",
              "    .dataframe thead th {\n",
              "        text-align: right;\n",
              "    }\n",
              "</style>\n",
              "<table border=\"1\" class=\"dataframe\">\n",
              "  <thead>\n",
              "    <tr style=\"text-align: right;\">\n",
              "      <th></th>\n",
              "      <th>Continente</th>\n",
              "      <th>ID Continente</th>\n",
              "      <th>País</th>\n",
              "      <th>ID País</th>\n",
              "      <th>UF</th>\n",
              "      <th>ID UF</th>\n",
              "      <th>Via de acesso</th>\n",
              "      <th>ID Via de acesso</th>\n",
              "      <th>Ano</th>\n",
              "      <th>Mês</th>\n",
              "      <th>Num mês</th>\n",
              "      <th>Chegadas</th>\n",
              "    </tr>\n",
              "  </thead>\n",
              "  <tbody>\n",
              "    <tr>\n",
              "      <th>3357</th>\n",
              "      <td>Oceania</td>\n",
              "      <td>7</td>\n",
              "      <td>Nova Zelândia</td>\n",
              "      <td>166</td>\n",
              "      <td>Minas Gerais</td>\n",
              "      <td>13</td>\n",
              "      <td>Aérea</td>\n",
              "      <td>1</td>\n",
              "      <td>2010</td>\n",
              "      <td>dezembro</td>\n",
              "      <td>12</td>\n",
              "      <td>2.0</td>\n",
              "    </tr>\n",
              "    <tr>\n",
              "      <th>3221</th>\n",
              "      <td>Ásia</td>\n",
              "      <td>5</td>\n",
              "      <td>República da Coreia</td>\n",
              "      <td>184</td>\n",
              "      <td>Minas Gerais</td>\n",
              "      <td>13</td>\n",
              "      <td>Aérea</td>\n",
              "      <td>1</td>\n",
              "      <td>2010</td>\n",
              "      <td>outubro</td>\n",
              "      <td>10</td>\n",
              "      <td>2.0</td>\n",
              "    </tr>\n",
              "    <tr>\n",
              "      <th>3220</th>\n",
              "      <td>Ásia</td>\n",
              "      <td>5</td>\n",
              "      <td>Japão</td>\n",
              "      <td>122</td>\n",
              "      <td>Minas Gerais</td>\n",
              "      <td>13</td>\n",
              "      <td>Aérea</td>\n",
              "      <td>1</td>\n",
              "      <td>2010</td>\n",
              "      <td>outubro</td>\n",
              "      <td>10</td>\n",
              "      <td>2.0</td>\n",
              "    </tr>\n",
              "    <tr>\n",
              "      <th>3219</th>\n",
              "      <td>Ásia</td>\n",
              "      <td>5</td>\n",
              "      <td>Israel</td>\n",
              "      <td>119</td>\n",
              "      <td>Minas Gerais</td>\n",
              "      <td>13</td>\n",
              "      <td>Aérea</td>\n",
              "      <td>1</td>\n",
              "      <td>2010</td>\n",
              "      <td>outubro</td>\n",
              "      <td>10</td>\n",
              "      <td>2.0</td>\n",
              "    </tr>\n",
              "    <tr>\n",
              "      <th>3043</th>\n",
              "      <td>América do Sul</td>\n",
              "      <td>4</td>\n",
              "      <td>Paraguai</td>\n",
              "      <td>173</td>\n",
              "      <td>Minas Gerais</td>\n",
              "      <td>13</td>\n",
              "      <td>Aérea</td>\n",
              "      <td>1</td>\n",
              "      <td>2010</td>\n",
              "      <td>julho</td>\n",
              "      <td>7</td>\n",
              "      <td>2.0</td>\n",
              "    </tr>\n",
              "  </tbody>\n",
              "</table>\n",
              "</div>"
            ],
            "text/plain": [
              "          Continente  ID Continente  ... Num mês  Chegadas\n",
              "3357         Oceania              7  ...      12       2.0\n",
              "3221            Ásia              5  ...      10       2.0\n",
              "3220            Ásia              5  ...      10       2.0\n",
              "3219            Ásia              5  ...      10       2.0\n",
              "3043  América do Sul              4  ...       7       2.0\n",
              "\n",
              "[5 rows x 12 columns]"
            ]
          },
          "metadata": {
            "tags": []
          },
          "execution_count": 122
        }
      ]
    },
    {
      "cell_type": "markdown",
      "metadata": {
        "id": "ym3yWKEqNHrO"
      },
      "source": [
        "Comparando numero de chegadas de Minas, São Paulo, Rio e Acre\n",
        "\n"
      ]
    },
    {
      "cell_type": "code",
      "metadata": {
        "id": "-NSNk5RRH4gq",
        "outputId": "5f758815-cccf-4038-e0ff-88f25f17b700",
        "colab": {
          "base_uri": "https://localhost:8080/",
          "height": 281
        }
      },
      "source": [
        "minas = frame[frame['ID UF'] == 13] # Minas Gerais\n",
        "saopaulo = frame[frame['ID UF'] == 25] # São Paulo\n",
        "rio = frame[frame['ID UF'] == 19] # Rio de Janeiro\n",
        "acre = frame[frame['ID UF'] == 1] # Acre\n",
        "\n",
        "colunas = list(range(2010, 2020))\n",
        "chegadas = np.random.randint(1, size=(10, 4))\n",
        "\n",
        "for idx, ano in enumerate(colunas):\n",
        "   minasAno = minas[minas['Ano'] == ano]\n",
        "   chegadas[idx][0] = sum(minasAno['Chegadas'])\n",
        "   \n",
        "   saopauloAno = saopaulo[saopaulo['Ano'] == ano]\n",
        "   chegadas[idx][1] = sum(saopauloAno['Chegadas'])\n",
        "   \n",
        "   riosAno = rio[rio['Ano'] == ano]\n",
        "   chegadas[idx][2] = sum(riosAno['Chegadas'])\n",
        "   \n",
        "   acreAno = acre[acre['Ano'] == ano]\n",
        "   chegadas[idx][3] = sum(acreAno['Chegadas'])\n",
        "\n",
        "df2 = pd.DataFrame(chegadas, columns = ['Minas Gerais', 'São Paulo', 'Rio de Janeiro', 'Acre'], index=colunas)\n",
        "df2.plot.bar();\n",
        "\n",
        "plt.ticklabel_format(axis=\"y\", style=\"plain\", scilimits=(0,0))"
      ],
      "execution_count": 123,
      "outputs": [
        {
          "output_type": "display_data",
          "data": {
            "image/png": "[encoded data removed]",
            "text/plain": [
              "<Figure size 432x288 with 1 Axes>"
            ]
          },
          "metadata": {
            "tags": []
          }
        }
      ]
    },
    {
      "cell_type": "markdown",
      "metadata": {
        "id": "yY5X1bDbPbBW"
      },
      "source": [
        "Gráfico 'genérico', comparando numero de chegadas de 4 Unidades Federativas\n",
        "\n"
      ]
    },
    {
      "cell_type": "code",
      "metadata": {
        "id": "noMDvc3TPpap",
        "outputId": "5c743e8b-2533-4f44-a927-67b2957ad4f0",
        "colab": {
          "base_uri": "https://localhost:8080/",
          "height": 340
        }
      },
      "source": [
        "frame['UF'].value_counts()"
      ],
      "execution_count": 124,
      "outputs": [
        {
          "output_type": "execute_result",
          "data": {
            "text/plain": [
              "Rio Grande do Sul               14124\n",
              "Paraná                          13613\n",
              "Rio de Janeiro                  11422\n",
              "São Paulo                       10105\n",
              "Amazonas                         8841\n",
              "Pernambuco                       8235\n",
              "Bahia                            8005\n",
              "Distrito Federal                 7352\n",
              "Ceará                            6989\n",
              "Santa Catarina                   6739\n",
              "Minas Gerais                     6187\n",
              "Outras Unidades da Federação     5905\n",
              "Mato Grosso do Sul               5004\n",
              "Pará                             4847\n",
              "Rio Grande do Norte              4223\n",
              "Roraima                          2936\n",
              "Amapá                            2617\n",
              "Acre                             2323\n",
              "Name: UF, dtype: int64"
            ]
          },
          "metadata": {
            "tags": []
          },
          "execution_count": 124
        }
      ]
    },
    {
      "cell_type": "code",
      "metadata": {
        "id": "bIIbt8DbOu4s",
        "outputId": "5f8d9c37-8625-4898-83b6-178c8b2c68a2",
        "colab": {
          "base_uri": "https://localhost:8080/",
          "height": 281
        }
      },
      "source": [
        "ufs = ['Paraná', 'São Paulo', 'Rio de Janeiro', 'Rio Grande do Sul']\n",
        "\n",
        "uf1 = frame[frame['UF'] == ufs[0]]\n",
        "uf2 = frame[frame['UF'] == ufs[1]]\n",
        "uf3 = frame[frame['UF'] == ufs[2]]\n",
        "uf4 = frame[frame['UF'] == ufs[3]] \n",
        "\n",
        "colunas = list(range(2010, 2020))\n",
        "chegadas = np.random.randint(1, size=(10, 4))\n",
        "\n",
        "for idx, ano in enumerate(colunas):\n",
        "   uf1Ano = uf1[uf1['Ano'] == ano]\n",
        "   chegadas[idx][0] = sum(uf1Ano['Chegadas'])\n",
        "   \n",
        "   uf2Ano = uf2[uf2['Ano'] == ano]\n",
        "   chegadas[idx][1] = sum(uf2Ano['Chegadas'])\n",
        "   \n",
        "   uf3Ano = uf3[uf3['Ano'] == ano]\n",
        "   chegadas[idx][2] = sum(uf3Ano['Chegadas'])\n",
        "   \n",
        "   uf4Ano = uf4[uf4['Ano'] == ano]\n",
        "   chegadas[idx][3] = sum(uf4Ano['Chegadas'])\n",
        "\n",
        "df2 = pd.DataFrame(chegadas, columns = ufs, index=colunas)\n",
        "df2.plot.bar();\n",
        "\n",
        "plt.ticklabel_format(axis=\"y\", style=\"plain\", scilimits=(0,0))"
      ],
      "execution_count": 125,
      "outputs": [
        {
          "output_type": "display_data",
          "data": {
            "image/png": "[encoded data removed]",
            "text/plain": [
              "<Figure size 432x288 with 1 Axes>"
            ]
          },
          "metadata": {
            "tags": []
          }
        }
      ]
    },
    {
      "cell_type": "markdown",
      "metadata": {
        "id": "g04E_OoDo0Fw"
      },
      "source": [
        "Instalando biblioteca Apyori de reconreconhecimento de padrões"
      ]
    },
    {
      "cell_type": "code",
      "metadata": {
        "id": "us7JYgFtYZOQ",
        "outputId": "2892e745-2dd8-4476-9fe2-f9cae8d7b8a4",
        "colab": {
          "base_uri": "https://localhost:8080/",
          "height": 170
        }
      },
      "source": [
        "!pip install apyori\n",
        "from apyori import apriori"
      ],
      "execution_count": 126,
      "outputs": [
        {
          "output_type": "stream",
          "text": [
            "Collecting apyori\n",
            "  Downloading https://files.pythonhosted.org/packages/5e/62/5ffde5c473ea4b033490617ec5caa80d59804875ad3c3c57c0976533a21a/apyori-1.1.2.tar.gz\n",
            "Building wheels for collected packages: apyori\n",
            "  Building wheel for apyori (setup.py) ... \u001b[?25l\u001b[?25hdone\n",
            "  Created wheel for apyori: filename=apyori-1.1.2-cp36-none-any.whl size=5975 sha256=dbd93bc3c5c2bc3afc401db7288402eeed80a6c1bdd326b10320a337775c7817\n",
            "  Stored in directory: /root/.cache/pip/wheels/5d/92/bb/474bbadbc8c0062b9eb168f69982a0443263f8ab1711a8cad0\n",
            "Successfully built apyori\n",
            "Installing collected packages: apyori\n",
            "Successfully installed apyori-1.1.2\n"
          ],
          "name": "stdout"
        }
      ]
    },
    {
      "cell_type": "markdown",
      "metadata": {
        "id": "qYnBQ3JTo8LW"
      },
      "source": [
        "**Extraindo regras: A partir de 2015, as Unidades Federativas que receberam estrangeiros acima da média de 177 pessoas de certo Continente, terá chances de receber visitas de qual outro continente?**"
      ]
    },
    {
      "cell_type": "markdown",
      "metadata": {
        "id": "JiMPZf67psC1"
      },
      "source": [
        "Separando o frame e montando a lista"
      ]
    },
    {
      "cell_type": "code",
      "metadata": {
        "id": "GBV2wXX3YjkP"
      },
      "source": [
        "lista = []\n",
        "ano = frame[frame['Ano'] > 2014] # Apartir de 2015\n",
        "ano = ano[ano['Chegadas'] > 177] # Somente os que tiveram chegadas acima da média (177 pessoas)\n",
        "for i in ano['ID UF'].unique(): # Para cada Unidade Federativa pegar os continentes\n",
        "    lista.append(list(ano[ano['ID UF'] == i]['Continente'].unique()))"
      ],
      "execution_count": 127,
      "outputs": []
    },
    {
      "cell_type": "markdown",
      "metadata": {
        "id": "9vEpkDptp0hM"
      },
      "source": [
        "Aplicando apriori na lista e mostrando quantas regras foram obtidas"
      ]
    },
    {
      "cell_type": "code",
      "metadata": {
        "id": "Th9jfC12ZRwz",
        "outputId": "585f2019-7917-4146-dc21-d98eacbed642",
        "colab": {
          "base_uri": "https://localhost:8080/",
          "height": 34
        }
      },
      "source": [
        "resultado = list(apriori(lista, min_support=0.01, min_confidence=0.4, min_lift=3, min_length=2))\n",
        "print(\"Existem {} relacões derivadas.\".format(len(resultado)))"
      ],
      "execution_count": 128,
      "outputs": [
        {
          "output_type": "stream",
          "text": [
            "Existem 68 relacões derivadas.\n"
          ],
          "name": "stdout"
        }
      ]
    },
    {
      "cell_type": "markdown",
      "metadata": {
        "id": "wPEouiI3p5-s"
      },
      "source": [
        "Mostrando as 10 primeiras regras obtidas."
      ]
    },
    {
      "cell_type": "code",
      "metadata": {
        "id": "-gxYJTdMgi7R",
        "outputId": "585b1ecb-4a52-4809-90b6-ee0159f320ee",
        "colab": {
          "base_uri": "https://localhost:8080/",
          "height": 187
        }
      },
      "source": [
        "for item in resultado[0:10]: # Somente mostrando 10 primeiras regras de 68\n",
        "    pair = item[0]\n",
        "    items = [x for x in pair]\n",
        "    print(\"UF's que recebem visitas de \" + items[0] + \" também tem grandes chances de receber visitas de:  \" + \", \".join(items[1:]))"
      ],
      "execution_count": 129,
      "outputs": [
        {
          "output_type": "stream",
          "text": [
            "UF's que recebem visitas de América Central e Caribe também tem grandes chances de receber visitas de:  Oceania\n",
            "UF's que recebem visitas de América Central e Caribe também tem grandes chances de receber visitas de:  África\n",
            "UF's que recebem visitas de Oceania também tem grandes chances de receber visitas de:  África\n",
            "UF's que recebem visitas de América Central e Caribe também tem grandes chances de receber visitas de:  Oceania, América do Norte\n",
            "UF's que recebem visitas de América Central e Caribe também tem grandes chances de receber visitas de:  África, América do Norte\n",
            "UF's que recebem visitas de América Central e Caribe também tem grandes chances de receber visitas de:  América do Sul, Oceania\n",
            "UF's que recebem visitas de América Central e Caribe também tem grandes chances de receber visitas de:  América do Sul, África\n",
            "UF's que recebem visitas de Ásia também tem grandes chances de receber visitas de:  América Central e Caribe, América do Sul\n",
            "UF's que recebem visitas de América Central e Caribe também tem grandes chances de receber visitas de:  Europa, Oceania\n",
            "UF's que recebem visitas de América Central e Caribe também tem grandes chances de receber visitas de:  Europa, África\n"
          ],
          "name": "stdout"
        }
      ]
    },
    {
      "cell_type": "markdown",
      "metadata": {
        "id": "NE4--EY3p-yb"
      },
      "source": [
        "**Extraindo regras: As Unidades Federativas que receberam estrangeiros acima da média de 177 pessoas por certa Via de Acesso, terá chances de receber visitas de qual outro método?**"
      ]
    },
    {
      "cell_type": "markdown",
      "metadata": {
        "id": "YaBBB-g_qX6k"
      },
      "source": [
        "Separando o frame e montando a lista"
      ]
    },
    {
      "cell_type": "code",
      "metadata": {
        "id": "Oe0AWq4kkIGZ"
      },
      "source": [
        "lista = []\n",
        "ano = frame[frame['Chegadas'] > 177] # Somente os que tiveram chegadas acima da média (177 pessoas)\n",
        "for i in ano['ID UF'].unique(): # Para cada Unidade Federativa pegar os continentes\n",
        "    lista.append(list(ano[ano['ID UF'] == i]['Via de acesso'].unique()))"
      ],
      "execution_count": 130,
      "outputs": []
    },
    {
      "cell_type": "markdown",
      "metadata": {
        "id": "kqdGwurOqazy"
      },
      "source": [
        "Aplicando apriori na lista e mostrando quantas regras foram obtidas"
      ]
    },
    {
      "cell_type": "code",
      "metadata": {
        "id": "0-E_dslxkUTV",
        "outputId": "4cc89292-338f-4c07-c2cb-bca3ff35f0b7",
        "colab": {
          "base_uri": "https://localhost:8080/",
          "height": 34
        }
      },
      "source": [
        "resultado = list(apriori(lista, min_support=0.01, min_confidence=0.4, min_lift=3, min_length=2))\n",
        "print(\"Existem {} relacões derivadas.\".format(len(resultado)))"
      ],
      "execution_count": 131,
      "outputs": [
        {
          "output_type": "stream",
          "text": [
            "Existem 2 relacões derivadas.\n"
          ],
          "name": "stdout"
        }
      ]
    },
    {
      "cell_type": "markdown",
      "metadata": {
        "id": "ulbVIXRmqg3k"
      },
      "source": [
        "Mostrando as regras obtidas."
      ]
    },
    {
      "cell_type": "code",
      "metadata": {
        "id": "OHO3aCf1mcmK",
        "outputId": "e627f384-890c-4444-93e6-8e87d22e4e41",
        "colab": {
          "base_uri": "https://localhost:8080/",
          "height": 51
        }
      },
      "source": [
        "for item in resultado[0:10]: # Somente mostrando 10 primeiras regras de 68\n",
        "    pair = item[0]\n",
        "    items = [x for x in pair]\n",
        "    print(\"UF's que recebem visitas da via de acesso \" + items[0] + \" também tem grandes chances de receber visitas de modo:  \" + \", \".join(items[1:]))"
      ],
      "execution_count": 132,
      "outputs": [
        {
          "output_type": "stream",
          "text": [
            "UF's que recebem visitas da via de acesso Fluvial também tem grandes chances de receber visitas de modo:  Terrestre, Marítima\n",
            "UF's que recebem visitas da via de acesso Marítima também tem grandes chances de receber visitas de modo:  Fluvial, Terrestre, Aérea\n"
          ],
          "name": "stdout"
        }
      ]
    }
  ]
}