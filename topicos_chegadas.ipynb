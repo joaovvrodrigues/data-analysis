{
  "nbformat": 4,
  "nbformat_minor": 0,
  "metadata": {
    "colab": {
      "name": "topicos_chegadas.ipynb",
      "provenance": [],
      "collapsed_sections": [],
      "include_colab_link": true
    },
    "kernelspec": {
      "name": "python3",
      "display_name": "Python 3"
    }
  },
  "cells": [
    {
      "cell_type": "markdown",
      "metadata": {
        "id": "view-in-github",
        "colab_type": "text"
      },
      "source": [
        "<a href=\"https://colab.research.google.com/github/joaovvrodrigues/data-analysis-estrangeiros/blob/main/topicos_chegadas.ipynb\" target=\"_parent\"><img src=\"https://colab.research.google.com/assets/colab-badge.svg\" alt=\"Open In Colab\"/></a>"
      ]
    },
    {
      "cell_type": "markdown",
      "metadata": {
        "id": "cp1Eyk4bqvKo"
      },
      "source": [
        "**Chegadas de turistas internacionais de 2010 a 2019**\n",
        "\n",
        "\n",
        "\n",
        "*   Preparação dos dados\n",
        "*   Análises gráficas\n",
        "*   Reconhecimento de padrões\n",
        "\n",
        "\n",
        "\n",
        "[Download dos datasets](http://dados.turismo.gov.br/index.php/chegada-de-turistas-internacionais)\n",
        "\n",
        "\n",
        "\n",
        "\n"
      ]
    },
    {
      "cell_type": "code",
      "metadata": {
        "id": "PvZhcCCOlKxQ"
      },
      "source": [
        "# http://dados.turismo.gov.br/index.php/chegada-de-turistas-internacionais\n",
        "# Apartir de 2016 os datasets são organizados de forma diferente, alterando os valores das colunas\n",
        "# 2018 está usando um enconding diferente\n",
        "# 2014 está com ';' no final de cada linha (mal formatado)\n",
        "# Portanto é melhor padronizar as colunas antes de unir\n",
        "# Estava com problema de enconding, tive que abrir todos os arquivos no sublime e salvar novamente"
      ],
      "execution_count": null,
      "outputs": []
    },
    {
      "cell_type": "markdown",
      "metadata": {
        "id": "ES2ZKXk0m6Cy"
      },
      "source": [
        "**Preparação dos dados**\n",
        "\n",
        "*   Carregando, limpando e formatando dados\n",
        "*   Concatenando todos\n",
        "\n"
      ]
    },
    {
      "cell_type": "code",
      "metadata": {
        "id": "9rg0MvQOl0fk"
      },
      "source": [
        "import pandas as pd\n",
        "import numpy as np\n",
        "\n",
        "\n",
        "colunasRenomeadas = {'Continente':'Continente','Ordem continente':'ID Continente','País':'País', 'Ordem país':'ID País', 'UF':'UF', 'Ordem UF':'ID UF', 'Via de acesso':'Via de acesso', 'Ordem via de acesso':'ID Via de acesso', 'Ano':'Ano', \n",
        "                     'Mês':'Mês', 'Ordem mês':'Num mês', 'Chegadas':'Chegadas', 'ano':'Ano', 'cod continente':'ID Continente', 'cod pais':'ID País', 'cod uf':'ID UF', 'Via':'Via de acesso', 'cod via':'ID Via de acesso', 'cod mes':'Num mês',\n",
        "                     'ï»¿Continente':'Continente', 'PaÃ­s':'País', 'MÃªs':'Mês', 'Pa�s' : 'País', 'Ordem paï¿½s': 'ID País', 'M�s' : 'Mês', 'Ordem mï¿½s' : 'Num mês'}\n",
        "\n",
        "quantidade = 9 # Quantidade usado para carregar os nomes dos datasets\n",
        "li = [] # lista com datasets\n",
        "\n",
        "chegadasPorAno = []\n",
        "\n",
        "for i in range(10):\n",
        "    arquivo = \"chegadas_201{}.csv\".format(i) # Carregando o nome do arquivo atual\n",
        "    df = pd.read_csv(arquivo, delimiter = ';') # Carregando o DataSet\n",
        "    \n",
        "    df.rename(columns=colunasRenomeadas, inplace=True)  # Renomeando as colunas para padronização\n",
        "    df.dropna(inplace=True) # Remove todos os NaN do DataSet, necenecessário pois temos um numero maior de chegadas pois incluem NaN.\n",
        "\n",
        "    li.append(df) # Adicionando arquivos na lista de datasets\n",
        "    \n",
        "    chegadasPorAno.append(sum(df['Chegadas'])) # Salvando numero total de chegadas por ano\n",
        "\n",
        "frame = pd.concat(li, axis=0, ignore_index=True) # Concatenando todos os datasets\n",
        "\n",
        "frame[\"Mês\"] = frame[\"Mês\"].str.lower() # Colocando todos os meses em caixa baixa\n"
      ],
      "execution_count": 2,
      "outputs": []
    },
    {
      "cell_type": "markdown",
      "metadata": {
        "id": "fP07Ygx6nOQL"
      },
      "source": [
        "**Descrição do Data Frame unificado**"
      ]
    },
    {
      "cell_type": "code",
      "metadata": {
        "id": "0lIaleoBtY_v",
        "outputId": "8b6384e5-87ae-4a83-d919-e77e36451b7d",
        "colab": {
          "base_uri": "https://localhost:8080/",
          "height": 297
        }
      },
      "source": [
        "frame.drop(columns = ['Unnamed: 12'], inplace=True) #Removendo a coluna Unnamed de 2014 Caso use os dados do site oficial, descomente essa linha\n",
        "frame.describe()"
      ],
      "execution_count": 2,
      "outputs": [
        {
          "output_type": "execute_result",
          "data": {
            "text/html": [
              "<div>\n",
              "<style scoped>\n",
              "    .dataframe tbody tr th:only-of-type {\n",
              "        vertical-align: middle;\n",
              "    }\n",
              "\n",
              "    .dataframe tbody tr th {\n",
              "        vertical-align: top;\n",
              "    }\n",
              "\n",
              "    .dataframe thead th {\n",
              "        text-align: right;\n",
              "    }\n",
              "</style>\n",
              "<table border=\"1\" class=\"dataframe\">\n",
              "  <thead>\n",
              "    <tr style=\"text-align: right;\">\n",
              "      <th></th>\n",
              "      <th>ID Continente</th>\n",
              "      <th>ID País</th>\n",
              "      <th>ID UF</th>\n",
              "      <th>ID Via de acesso</th>\n",
              "      <th>Ano</th>\n",
              "      <th>Num mês</th>\n",
              "      <th>Chegadas</th>\n",
              "    </tr>\n",
              "  </thead>\n",
              "  <tbody>\n",
              "    <tr>\n",
              "      <th>count</th>\n",
              "      <td>343908.000000</td>\n",
              "      <td>343908.000000</td>\n",
              "      <td>343908.000000</td>\n",
              "      <td>343908.000000</td>\n",
              "      <td>343908.000000</td>\n",
              "      <td>343908.000000</td>\n",
              "      <td>343908.000000</td>\n",
              "    </tr>\n",
              "    <tr>\n",
              "      <th>mean</th>\n",
              "      <td>4.482362</td>\n",
              "      <td>181.791898</td>\n",
              "      <td>22.069926</td>\n",
              "      <td>2.085732</td>\n",
              "      <td>2015.401549</td>\n",
              "      <td>6.500000</td>\n",
              "      <td>177.171194</td>\n",
              "    </tr>\n",
              "    <tr>\n",
              "      <th>std</th>\n",
              "      <td>1.844283</td>\n",
              "      <td>247.447473</td>\n",
              "      <td>24.942026</td>\n",
              "      <td>1.084073</td>\n",
              "      <td>2.737766</td>\n",
              "      <td>3.452058</td>\n",
              "      <td>2184.248072</td>\n",
              "    </tr>\n",
              "    <tr>\n",
              "      <th>min</th>\n",
              "      <td>1.000000</td>\n",
              "      <td>2.000000</td>\n",
              "      <td>1.000000</td>\n",
              "      <td>1.000000</td>\n",
              "      <td>2010.000000</td>\n",
              "      <td>1.000000</td>\n",
              "      <td>0.000000</td>\n",
              "    </tr>\n",
              "    <tr>\n",
              "      <th>25%</th>\n",
              "      <td>3.000000</td>\n",
              "      <td>57.000000</td>\n",
              "      <td>7.000000</td>\n",
              "      <td>1.000000</td>\n",
              "      <td>2013.000000</td>\n",
              "      <td>3.750000</td>\n",
              "      <td>0.000000</td>\n",
              "    </tr>\n",
              "    <tr>\n",
              "      <th>50%</th>\n",
              "      <td>5.000000</td>\n",
              "      <td>117.000000</td>\n",
              "      <td>17.000000</td>\n",
              "      <td>2.000000</td>\n",
              "      <td>2016.000000</td>\n",
              "      <td>6.500000</td>\n",
              "      <td>0.000000</td>\n",
              "    </tr>\n",
              "    <tr>\n",
              "      <th>75%</th>\n",
              "      <td>6.000000</td>\n",
              "      <td>184.000000</td>\n",
              "      <td>23.000000</td>\n",
              "      <td>3.000000</td>\n",
              "      <td>2018.000000</td>\n",
              "      <td>9.250000</td>\n",
              "      <td>4.000000</td>\n",
              "    </tr>\n",
              "    <tr>\n",
              "      <th>max</th>\n",
              "      <td>8.000000</td>\n",
              "      <td>999.000000</td>\n",
              "      <td>99.000000</td>\n",
              "      <td>4.000000</td>\n",
              "      <td>2019.000000</td>\n",
              "      <td>12.000000</td>\n",
              "      <td>386823.000000</td>\n",
              "    </tr>\n",
              "  </tbody>\n",
              "</table>\n",
              "</div>"
            ],
            "text/plain": [
              "       ID Continente        ID País  ...        Num mês       Chegadas\n",
              "count  343908.000000  343908.000000  ...  343908.000000  343908.000000\n",
              "mean        4.482362     181.791898  ...       6.500000     177.171194\n",
              "std         1.844283     247.447473  ...       3.452058    2184.248072\n",
              "min         1.000000       2.000000  ...       1.000000       0.000000\n",
              "25%         3.000000      57.000000  ...       3.750000       0.000000\n",
              "50%         5.000000     117.000000  ...       6.500000       0.000000\n",
              "75%         6.000000     184.000000  ...       9.250000       4.000000\n",
              "max         8.000000     999.000000  ...      12.000000  386823.000000\n",
              "\n",
              "[8 rows x 7 columns]"
            ]
          },
          "metadata": {
            "tags": []
          },
          "execution_count": 2
        }
      ]
    },
    {
      "cell_type": "markdown",
      "metadata": {
        "id": "_lhlCtcanXKb"
      },
      "source": [
        "Como realizar uma pesquisa"
      ]
    },
    {
      "cell_type": "code",
      "metadata": {
        "id": "RGspwm1Z3FRu",
        "outputId": "70f96877-e7bf-463f-f6a9-b3df75f92152",
        "colab": {
          "base_uri": "https://localhost:8080/",
          "height": 204
        }
      },
      "source": [
        "frame.sort_values(by=['Chegadas'], ascending=False).head() # by=['ID País', 'Chegadas'] Organizar por mais de uma coluna"
      ],
      "execution_count": null,
      "outputs": [
        {
          "output_type": "execute_result",
          "data": {
            "text/html": [
              "<div>\n",
              "<style scoped>\n",
              "    .dataframe tbody tr th:only-of-type {\n",
              "        vertical-align: middle;\n",
              "    }\n",
              "\n",
              "    .dataframe tbody tr th {\n",
              "        vertical-align: top;\n",
              "    }\n",
              "\n",
              "    .dataframe thead th {\n",
              "        text-align: right;\n",
              "    }\n",
              "</style>\n",
              "<table border=\"1\" class=\"dataframe\">\n",
              "  <thead>\n",
              "    <tr style=\"text-align: right;\">\n",
              "      <th></th>\n",
              "      <th>Continente</th>\n",
              "      <th>ID Continente</th>\n",
              "      <th>País</th>\n",
              "      <th>ID País</th>\n",
              "      <th>UF</th>\n",
              "      <th>ID UF</th>\n",
              "      <th>Via de acesso</th>\n",
              "      <th>ID Via de acesso</th>\n",
              "      <th>Ano</th>\n",
              "      <th>Mês</th>\n",
              "      <th>Num mês</th>\n",
              "      <th>Chegadas</th>\n",
              "    </tr>\n",
              "  </thead>\n",
              "  <tbody>\n",
              "    <tr>\n",
              "      <th>233449</th>\n",
              "      <td>América do Sul</td>\n",
              "      <td>4</td>\n",
              "      <td>Argentina</td>\n",
              "      <td>11</td>\n",
              "      <td>Rio Grande do Sul</td>\n",
              "      <td>21</td>\n",
              "      <td>Terrestre</td>\n",
              "      <td>2</td>\n",
              "      <td>2017</td>\n",
              "      <td>janeiro</td>\n",
              "      <td>1</td>\n",
              "      <td>386823.0</td>\n",
              "    </tr>\n",
              "    <tr>\n",
              "      <th>144169</th>\n",
              "      <td>América do Sul</td>\n",
              "      <td>4</td>\n",
              "      <td>Argentina</td>\n",
              "      <td>11</td>\n",
              "      <td>Rio Grande do Sul</td>\n",
              "      <td>21</td>\n",
              "      <td>Terrestre</td>\n",
              "      <td>2</td>\n",
              "      <td>2015</td>\n",
              "      <td>janeiro</td>\n",
              "      <td>1</td>\n",
              "      <td>353122.0</td>\n",
              "    </tr>\n",
              "    <tr>\n",
              "      <th>189925</th>\n",
              "      <td>América do Sul</td>\n",
              "      <td>4</td>\n",
              "      <td>Argentina</td>\n",
              "      <td>11</td>\n",
              "      <td>Rio Grande do Sul</td>\n",
              "      <td>21</td>\n",
              "      <td>Terrestre</td>\n",
              "      <td>2</td>\n",
              "      <td>2016</td>\n",
              "      <td>janeiro</td>\n",
              "      <td>1</td>\n",
              "      <td>350577.0</td>\n",
              "    </tr>\n",
              "    <tr>\n",
              "      <th>284808</th>\n",
              "      <td>América do Sul</td>\n",
              "      <td>4</td>\n",
              "      <td>Argentina</td>\n",
              "      <td>11</td>\n",
              "      <td>Rio Grande do Sul</td>\n",
              "      <td>21</td>\n",
              "      <td>Terrestre</td>\n",
              "      <td>2</td>\n",
              "      <td>2018</td>\n",
              "      <td>janeiro</td>\n",
              "      <td>1</td>\n",
              "      <td>307324.0</td>\n",
              "    </tr>\n",
              "    <tr>\n",
              "      <th>233542</th>\n",
              "      <td>América do Sul</td>\n",
              "      <td>4</td>\n",
              "      <td>Argentina</td>\n",
              "      <td>11</td>\n",
              "      <td>Rio Grande do Sul</td>\n",
              "      <td>21</td>\n",
              "      <td>Terrestre</td>\n",
              "      <td>2</td>\n",
              "      <td>2017</td>\n",
              "      <td>fevereiro</td>\n",
              "      <td>2</td>\n",
              "      <td>241090.0</td>\n",
              "    </tr>\n",
              "  </tbody>\n",
              "</table>\n",
              "</div>"
            ],
            "text/plain": [
              "            Continente  ID Continente       País  ...        Mês Num mês  Chegadas\n",
              "233449  América do Sul              4  Argentina  ...    janeiro       1  386823.0\n",
              "144169  América do Sul              4  Argentina  ...    janeiro       1  353122.0\n",
              "189925  América do Sul              4  Argentina  ...    janeiro       1  350577.0\n",
              "284808  América do Sul              4  Argentina  ...    janeiro       1  307324.0\n",
              "233542  América do Sul              4  Argentina  ...  fevereiro       2  241090.0\n",
              "\n",
              "[5 rows x 12 columns]"
            ]
          },
          "metadata": {
            "tags": []
          },
          "execution_count": 5
        }
      ]
    },
    {
      "cell_type": "markdown",
      "metadata": {
        "id": "GBnu-ocenaEd"
      },
      "source": [
        "Maior número de chegadas em um único mês "
      ]
    },
    {
      "cell_type": "code",
      "metadata": {
        "id": "Fu6bbiU0V-hL",
        "outputId": "09961c36-142a-4402-d229-4f126d8ef317",
        "colab": {
          "base_uri": "https://localhost:8080/",
          "height": 80
        }
      },
      "source": [
        "frame[frame['Chegadas'] == 386823] #MUITA GENTE MDS"
      ],
      "execution_count": 3,
      "outputs": [
        {
          "output_type": "execute_result",
          "data": {
            "text/html": [
              "<div>\n",
              "<style scoped>\n",
              "    .dataframe tbody tr th:only-of-type {\n",
              "        vertical-align: middle;\n",
              "    }\n",
              "\n",
              "    .dataframe tbody tr th {\n",
              "        vertical-align: top;\n",
              "    }\n",
              "\n",
              "    .dataframe thead th {\n",
              "        text-align: right;\n",
              "    }\n",
              "</style>\n",
              "<table border=\"1\" class=\"dataframe\">\n",
              "  <thead>\n",
              "    <tr style=\"text-align: right;\">\n",
              "      <th></th>\n",
              "      <th>Continente</th>\n",
              "      <th>ID Continente</th>\n",
              "      <th>País</th>\n",
              "      <th>ID País</th>\n",
              "      <th>UF</th>\n",
              "      <th>ID UF</th>\n",
              "      <th>Via de acesso</th>\n",
              "      <th>ID Via de acesso</th>\n",
              "      <th>Ano</th>\n",
              "      <th>Mês</th>\n",
              "      <th>Num mês</th>\n",
              "      <th>Chegadas</th>\n",
              "    </tr>\n",
              "  </thead>\n",
              "  <tbody>\n",
              "    <tr>\n",
              "      <th>233449</th>\n",
              "      <td>América do Sul</td>\n",
              "      <td>4</td>\n",
              "      <td>Argentina</td>\n",
              "      <td>11</td>\n",
              "      <td>Rio Grande do Sul</td>\n",
              "      <td>21</td>\n",
              "      <td>Terrestre</td>\n",
              "      <td>2</td>\n",
              "      <td>2017</td>\n",
              "      <td>janeiro</td>\n",
              "      <td>1</td>\n",
              "      <td>386823.0</td>\n",
              "    </tr>\n",
              "  </tbody>\n",
              "</table>\n",
              "</div>"
            ],
            "text/plain": [
              "            Continente  ID Continente       País  ...      Mês Num mês  Chegadas\n",
              "233449  América do Sul              4  Argentina  ...  janeiro       1  386823.0\n",
              "\n",
              "[1 rows x 12 columns]"
            ]
          },
          "metadata": {
            "tags": []
          },
          "execution_count": 3
        }
      ]
    },
    {
      "cell_type": "markdown",
      "metadata": {
        "id": "st7Oj857nheT"
      },
      "source": [
        "Gráfico de número de chegadas por ano, podemos observar uma crescente até 2018"
      ]
    },
    {
      "cell_type": "code",
      "metadata": {
        "id": "p8fETMFL0x_g",
        "outputId": "ce567405-2178-420c-fc68-0b2a19019bce",
        "colab": {
          "base_uri": "https://localhost:8080/",
          "height": 293
        }
      },
      "source": [
        "import matplotlib.pyplot as plt\n",
        "%matplotlib inline\n",
        "\n",
        "Y = chegadasPorAno\n",
        "X = frame['Ano'].unique()\n",
        "\n",
        "plt.plot(X,Y, marker = 'o')"
      ],
      "execution_count": null,
      "outputs": [
        {
          "output_type": "execute_result",
          "data": {
            "text/plain": [
              "[<matplotlib.lines.Line2D at 0x7f3cfe6aabe0>]"
            ]
          },
          "metadata": {
            "tags": []
          },
          "execution_count": 6
        },
        {
          "output_type": "display_data",
          "data": {
            "image/png": "[encoded data removed]",
            "text/plain": [
              "<Figure size 432x288 with 1 Axes>"
            ]
          },
          "metadata": {
            "tags": [],
            "needs_background": "light"
          }
        }
      ]
    },
    {
      "cell_type": "code",
      "metadata": {
        "id": "lrzrAuwQH43Q",
        "outputId": "4429ab2e-2437-4865-c776-1fa6f08b1644",
        "colab": {
          "base_uri": "https://localhost:8080/",
          "height": 293
        }
      },
      "source": [
        "Y = chegadasPorAno\n",
        "X = frame['Ano'].unique()\n",
        "plt.bar(X,Y)"
      ],
      "execution_count": null,
      "outputs": [
        {
          "output_type": "execute_result",
          "data": {
            "text/plain": [
              "<BarContainer object of 10 artists>"
            ]
          },
          "metadata": {
            "tags": []
          },
          "execution_count": 7
        },
        {
          "output_type": "display_data",
          "data": {
            "image/png": "[encoded data removed]",
            "text/plain": [
              "<Figure size 432x288 with 1 Axes>"
            ]
          },
          "metadata": {
            "tags": [],
            "needs_background": "light"
          }
        }
      ]
    },
    {
      "cell_type": "markdown",
      "metadata": {
        "id": "VHdFwb4_nqX0"
      },
      "source": [
        "Gráfico de contagem de continentes no DataFrame, podemos observar que temos muito mais instâncias de 'África', logo sendo o continente que mais trouxe estrangeiros.\n",
        "\n"
      ]
    },
    {
      "cell_type": "code",
      "metadata": {
        "id": "3rA-p4lDCOBg",
        "outputId": "1114a1e6-e88a-451d-f53d-28e52eb08a8e",
        "colab": {
          "base_uri": "https://localhost:8080/",
          "height": 282
        }
      },
      "source": [
        "X = frame['Continente'].value_counts()\n",
        "Y = frame['Continente'].unique()\n",
        "\n",
        "plt.plot(X,Y, marker = 'o')"
      ],
      "execution_count": null,
      "outputs": [
        {
          "output_type": "execute_result",
          "data": {
            "text/plain": [
              "[<matplotlib.lines.Line2D at 0x7f3cfe0ff860>]"
            ]
          },
          "metadata": {
            "tags": []
          },
          "execution_count": 8
        },
        {
          "output_type": "display_data",
          "data": {
            "image/png": "[encoded data removed]",
            "text/plain": [
              "<Figure size 432x288 with 1 Axes>"
            ]
          },
          "metadata": {
            "tags": [],
            "needs_background": "light"
          }
        }
      ]
    },
    {
      "cell_type": "markdown",
      "metadata": {
        "id": "-1SUQJvjn9fp"
      },
      "source": [
        "Gráfico de contagem de instâncias de UF no DataFrame, podemos observar que Amazonas é a Unidade Federativa que mais recebeu estrangeiros."
      ]
    },
    {
      "cell_type": "code",
      "metadata": {
        "id": "8ko3qnTwETEw",
        "outputId": "8e31dc9d-8d19-4547-f03f-c45d5c0354dd",
        "colab": {
          "base_uri": "https://localhost:8080/",
          "height": 282
        }
      },
      "source": [
        "X = frame['UF'].value_counts()\n",
        "Y = frame['UF'].unique()\n",
        "\n",
        "plt.plot(X,Y, marker = 'o')"
      ],
      "execution_count": null,
      "outputs": [
        {
          "output_type": "execute_result",
          "data": {
            "text/plain": [
              "[<matplotlib.lines.Line2D at 0x7f3cfe0e9780>]"
            ]
          },
          "metadata": {
            "tags": []
          },
          "execution_count": 9
        },
        {
          "output_type": "display_data",
          "data": {
            "image/png": "[encoded data removed]",
            "text/plain": [
              "<Figure size 432x288 with 1 Axes>"
            ]
          },
          "metadata": {
            "tags": [],
            "needs_background": "light"
          }
        }
      ]
    },
    {
      "cell_type": "markdown",
      "metadata": {
        "id": "w63kRvSToOuP"
      },
      "source": [
        "Gráfico de contagem de instâncias de Vias de acesso no DataFrame, podemos observar que o meio mais utilizado é viagens aéreas."
      ]
    },
    {
      "cell_type": "code",
      "metadata": {
        "id": "hxT-7YNDKBC8",
        "outputId": "01033251-812f-4666-f185-22b9e64f48c7",
        "colab": {
          "base_uri": "https://localhost:8080/",
          "height": 282
        }
      },
      "source": [
        "X = frame['Via de acesso'].value_counts()\n",
        "Y = frame['Via de acesso'].unique()\n",
        "\n",
        "plt.plot(X,Y, marker = 'o')"
      ],
      "execution_count": null,
      "outputs": [
        {
          "output_type": "execute_result",
          "data": {
            "text/plain": [
              "[<matplotlib.lines.Line2D at 0x7f3cfe0657b8>]"
            ]
          },
          "metadata": {
            "tags": []
          },
          "execution_count": 10
        },
        {
          "output_type": "display_data",
          "data": {
            "image/png": "[encoded data removed]",
            "text/plain": [
              "<Figure size 432x288 with 1 Axes>"
            ]
          },
          "metadata": {
            "tags": [],
            "needs_background": "light"
          }
        }
      ]
    },
    {
      "cell_type": "markdown",
      "metadata": {
        "id": "dUPYWpMiouQN"
      },
      "source": [
        "Gráfico de contagem de chegadas por meses de todos os anos, podemos observar que recebemos muitos estrangeiros no inicio no ano (Carnaval?). E há uma crescente no meio (junho e julho)"
      ]
    },
    {
      "cell_type": "code",
      "metadata": {
        "id": "3xYvAcpHKbx4",
        "outputId": "a6f9b2d3-bed1-436d-ffce-4758874173d6",
        "colab": {
          "base_uri": "https://localhost:8080/",
          "height": 283
        }
      },
      "source": [
        "X=frame['Mês']\n",
        "Y=frame['Chegadas']\n",
        "\n",
        "plt.bar(X,Y,) # Esse gráfico é muito pesado (quase 5 minutos pra ser gerado)"
      ],
      "execution_count": null,
      "outputs": [
        {
          "output_type": "execute_result",
          "data": {
            "text/plain": [
              "<BarContainer object of 343908 artists>"
            ]
          },
          "metadata": {
            "tags": []
          },
          "execution_count": 14
        },
        {
          "output_type": "display_data",
          "data": {
            "image/png": "[encoded data removed]",
            "text/plain": [
              "<Figure size 432x288 with 1 Axes>"
            ]
          },
          "metadata": {
            "tags": [],
            "needs_background": "light"
          }
        }
      ]
    },
    {
      "cell_type": "markdown",
      "metadata": {
        "id": "g04E_OoDo0Fw"
      },
      "source": [
        "Instalando biblioteca Apyori de reconreconhecimento de padrões"
      ]
    },
    {
      "cell_type": "code",
      "metadata": {
        "id": "us7JYgFtYZOQ",
        "outputId": "f6dfb1fe-8447-4417-bf1e-fd72b323fd83",
        "colab": {
          "base_uri": "https://localhost:8080/",
          "height": 34
        }
      },
      "source": [
        "!pip install apyori\n",
        "from apyori import apriori"
      ],
      "execution_count": 3,
      "outputs": [
        {
          "output_type": "stream",
          "text": [
            "Requirement already satisfied: apyori in /usr/local/lib/python3.6/dist-packages (1.1.2)\n"
          ],
          "name": "stdout"
        }
      ]
    },
    {
      "cell_type": "markdown",
      "metadata": {
        "id": "qYnBQ3JTo8LW"
      },
      "source": [
        "**Extraindo regras: A partir de 2015, as Unidades Federativas que receberam estrangeiros acima da média de 177 pessoas de certo Continente, terá chances de receber visitas de qual outro continente?**"
      ]
    },
    {
      "cell_type": "markdown",
      "metadata": {
        "id": "JiMPZf67psC1"
      },
      "source": [
        "Separando o frame e montando a lista"
      ]
    },
    {
      "cell_type": "code",
      "metadata": {
        "id": "GBV2wXX3YjkP"
      },
      "source": [
        "lista = []\n",
        "ano = frame[frame['Ano'] > 2014] # Apartir de 2015\n",
        "ano = ano[ano['Chegadas'] > 177] # Somente os que tiveram chegadas acima da média (177 pessoas)\n",
        "for i in ano['ID UF'].unique(): # Para cada Unidade Federativa pegar os continentes\n",
        "    lista.append(list(ano[ano['ID UF'] == i]['Continente'].unique()))"
      ],
      "execution_count": 70,
      "outputs": []
    },
    {
      "cell_type": "markdown",
      "metadata": {
        "id": "9vEpkDptp0hM"
      },
      "source": [
        "Aplicando apriori na lista e mostrando quantas regras foram obtidas"
      ]
    },
    {
      "cell_type": "code",
      "metadata": {
        "id": "Th9jfC12ZRwz",
        "outputId": "6d85c3c9-d98f-4017-e7d8-ef16ce3b7776",
        "colab": {
          "base_uri": "https://localhost:8080/",
          "height": 34
        }
      },
      "source": [
        "resultado = list(apriori(lista, min_support=0.01, min_confidence=0.4, min_lift=3, min_length=2))\n",
        "print(\"Existem {} relacões derivadas.\".format(len(resultado)))"
      ],
      "execution_count": 71,
      "outputs": [
        {
          "output_type": "stream",
          "text": [
            "Existem 68 relacões derivadas.\n"
          ],
          "name": "stdout"
        }
      ]
    },
    {
      "cell_type": "markdown",
      "metadata": {
        "id": "wPEouiI3p5-s"
      },
      "source": [
        "Mostrando as 10 primeiras regras obtidas."
      ]
    },
    {
      "cell_type": "code",
      "metadata": {
        "id": "-gxYJTdMgi7R",
        "outputId": "114599b4-c070-435e-9443-a293778efbe3",
        "colab": {
          "base_uri": "https://localhost:8080/",
          "height": 187
        }
      },
      "source": [
        "for item in resultado[0:10]: # Somente mostrando 10 primeiras regras de 68\n",
        "    pair = item[0]\n",
        "    items = [x for x in pair]\n",
        "    print(\"UF's que recebem visitas de \" + items[0] + \" também tem grandes chances de receber visitas de:  \" + \", \".join(items[1:]))"
      ],
      "execution_count": 72,
      "outputs": [
        {
          "output_type": "stream",
          "text": [
            "UF's que recebem visitas de Oceania também tem grandes chances de receber visitas de:  América Central e Caribe\n",
            "UF's que recebem visitas de África também tem grandes chances de receber visitas de:  América Central e Caribe\n",
            "UF's que recebem visitas de África também tem grandes chances de receber visitas de:  Oceania\n",
            "UF's que recebem visitas de América do Norte também tem grandes chances de receber visitas de:  Oceania, América Central e Caribe\n",
            "UF's que recebem visitas de América do Norte também tem grandes chances de receber visitas de:  África, América Central e Caribe\n",
            "UF's que recebem visitas de Oceania também tem grandes chances de receber visitas de:  América Central e Caribe, América do Sul\n",
            "UF's que recebem visitas de África também tem grandes chances de receber visitas de:  América Central e Caribe, América do Sul\n",
            "UF's que recebem visitas de Ásia também tem grandes chances de receber visitas de:  América Central e Caribe, América do Sul\n",
            "UF's que recebem visitas de Oceania também tem grandes chances de receber visitas de:  América Central e Caribe, Europa\n",
            "UF's que recebem visitas de África também tem grandes chances de receber visitas de:  América Central e Caribe, Europa\n"
          ],
          "name": "stdout"
        }
      ]
    },
    {
      "cell_type": "markdown",
      "metadata": {
        "id": "NE4--EY3p-yb"
      },
      "source": [
        "**Extraindo regras: As Unidades Federativas que receberam estrangeiros acima da média de 177 pessoas por certa Via de Acesso, terá chances de receber visitas de qual outro método?**"
      ]
    },
    {
      "cell_type": "markdown",
      "metadata": {
        "id": "YaBBB-g_qX6k"
      },
      "source": [
        "Separando o frame e montando a lista"
      ]
    },
    {
      "cell_type": "code",
      "metadata": {
        "id": "Oe0AWq4kkIGZ"
      },
      "source": [
        "lista = []\n",
        "ano = frame[frame['Chegadas'] > 177] # Somente os que tiveram chegadas acima da média (177 pessoas)\n",
        "for i in ano['ID UF'].unique(): # Para cada Unidade Federativa pegar os continentes\n",
        "    lista.append(list(ano[ano['ID UF'] == i]['Via de acesso'].unique()))"
      ],
      "execution_count": 106,
      "outputs": []
    },
    {
      "cell_type": "markdown",
      "metadata": {
        "id": "kqdGwurOqazy"
      },
      "source": [
        "Aplicando apriori na lista e mostrando quantas regras foram obtidas"
      ]
    },
    {
      "cell_type": "code",
      "metadata": {
        "id": "0-E_dslxkUTV",
        "outputId": "0ce5f7ad-ec31-4d34-d2ad-5e3dd4f909d8",
        "colab": {
          "base_uri": "https://localhost:8080/",
          "height": 34
        }
      },
      "source": [
        "resultado = list(apriori(lista, min_support=0.01, min_confidence=0.4, min_lift=3, min_length=2))\n",
        "print(\"Existem {} relacões derivadas.\".format(len(resultado)))"
      ],
      "execution_count": 108,
      "outputs": [
        {
          "output_type": "stream",
          "text": [
            "Existem 2 relacões derivadas.\n"
          ],
          "name": "stdout"
        }
      ]
    },
    {
      "cell_type": "markdown",
      "metadata": {
        "id": "ulbVIXRmqg3k"
      },
      "source": [
        "Mostrando as regras obtidas."
      ]
    },
    {
      "cell_type": "code",
      "metadata": {
        "id": "OHO3aCf1mcmK",
        "outputId": "12ed4c4e-38bc-4f39-b9fa-0593033070fb",
        "colab": {
          "base_uri": "https://localhost:8080/",
          "height": 51
        }
      },
      "source": [
        "for item in resultado[0:10]: # Somente mostrando 10 primeiras regras de 68\n",
        "    pair = item[0]\n",
        "    items = [x for x in pair]\n",
        "    print(\"UF's que recebem visitas da via de acesso \" + items[0] + \" também tem grandes chances de receber visitas de modo:  \" + \", \".join(items[1:]))"
      ],
      "execution_count": 110,
      "outputs": [
        {
          "output_type": "stream",
          "text": [
            "UF's que recebem visitas da via de acesso Fluvial também tem grandes chances de receber visitas de modo:  Marítima, Terrestre\n",
            "UF's que recebem visitas da via de acesso Fluvial também tem grandes chances de receber visitas de modo:  Aérea, Marítima, Terrestre\n"
          ],
          "name": "stdout"
        }
      ]
    }
  ]
}